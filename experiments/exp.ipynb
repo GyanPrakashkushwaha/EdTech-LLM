{
 "cells": [
  {
   "cell_type": "code",
   "execution_count": 1,
   "metadata": {},
   "outputs": [
    {
     "name": "stderr",
     "output_type": "stream",
     "text": [
      "d:\\vscode_machineLearning\\BEST_PROJECTS\\LLM-GooglePalm\\llm\\Lib\\site-packages\\tqdm\\auto.py:21: TqdmWarning: IProgress not found. Please update jupyter and ipywidgets. See https://ipywidgets.readthedocs.io/en/stable/user_install.html\n",
      "  from .autonotebook import tqdm as notebook_tqdm\n"
     ]
    },
    {
     "name": "stdout",
     "output_type": "stream",
     "text": [
      "**Slide 1: Title slide**\n",
      "\n",
      "* **Title:** IITM B.Tech. Fees Structure\n",
      "* **Subtitle:** 2023-24\n",
      "\n",
      "**Slide 2: Introduction**\n",
      "\n",
      "* The Indian Institute of Technology Madras (IITM) is a public research university located in Chennai, Tamil Nadu, India. It is one of the 23 Indian Institutes of Technology (IITs) established by the Government of India.\n",
      "* IITM offers undergraduate, postgraduate, and doctoral programs in engineering, science, and humanities.\n",
      "* The fees for B.Tech. programs at IITM are as follows:\n",
      "\n",
      "| Category | Fee (INR) |\n",
      "|---|---|\n",
      "| General | 2,70,000 |\n",
      "| SC/ST/OBC-NCL | 1,50,000 |\n",
      "| EWS | 2,25,000 |\n",
      "\n",
      "**Slide 3: Fee structure**\n",
      "\n",
      "The fee structure for B.Tech. programs at IITM is as follows:\n",
      "\n",
      "| Component | Amount (INR) |\n",
      "|---|---|\n",
      "| Tuition fee | 2,00,000 |\n",
      "| Hostel fee | 12,000/year |\n",
      "| Mess fee | 10,000/month |\n",
      "| Library fee | 500/year |\n",
      "| Sports fee | 500/year |\n",
      "| Medical fee | 500/year |\n",
      "| Other miscellaneous fees | 500/year |\n",
      "\n",
      "**Slide 4: Scholarships**\n",
      "\n",
      "IITM offers a number of scholarships to students who meet the eligibility criteria. These scholarships include:\n",
      "\n",
      "* The Rajiv Gandhi National Fellowship (RGNF)\n",
      "* The National Talent Search Examination (NTSE) Scholarship\n",
      "* The Jawaharlal Nehru Memorial Fund (JNMF) Scholarship\n",
      "* The Maulana Azad National Fellowship (MANF) Scholarship\n",
      "* The Navodaya Vidya Foundation Scholarship\n",
      "* The Sree Chitra Tirunal Institute for Medical Sciences and Technology (SCTIMST) Scholarship\n",
      "\n",
      "**Slide 5: Conclusion**\n",
      "\n",
      "For more information on the fees structure for B.Tech. programs at IITM, please visit the website:\n",
      "\n",
      "[https://www.iitm.ac.in/admissions/fees-structure](https://www.iitm.ac.in/admissions/fees-structure)\n"
     ]
    }
   ],
   "source": [
    "from secret.secret import apiKey\n",
    "from langchain.llms import GooglePalm\n",
    "\n",
    "chat = GooglePalm(google_api_key=apiKey,temperature=0.8)\n",
    "\n",
    "response = chat(\"\"\"Act as a PPT creator for fees structure for IITM Bs Degree students.\n",
    "                create a professional powerpoint presentation please show the complete fees in different slides\n",
    "                for all categories because the main aim is to show the fees of IITM\"\"\")\n",
    "\n",
    "\n",
    "print(response)"
   ]
  },
  {
   "cell_type": "code",
   "execution_count": 2,
   "metadata": {},
   "outputs": [],
   "source": [
    "from langchain.document_loaders.csv_loader import CSVLoader"
   ]
  },
  {
   "cell_type": "code",
   "execution_count": 8,
   "metadata": {},
   "outputs": [
    {
     "ename": "FileNotFoundError",
     "evalue": "[Errno 2] No such file or directory: 'DB/data.csv'",
     "output_type": "error",
     "traceback": [
      "\u001b[1;31m---------------------------------------------------------------------------\u001b[0m",
      "\u001b[1;31mFileNotFoundError\u001b[0m                         Traceback (most recent call last)",
      "\u001b[1;32md:\\vscode_machineLearning\\BEST_PROJECTS\\LLM-GooglePalm\\experiments\\exp.ipynb Cell 3\u001b[0m line \u001b[0;36m2\n\u001b[0;32m      <a href='vscode-notebook-cell:/d%3A/vscode_machineLearning/BEST_PROJECTS/LLM-GooglePalm/experiments/exp.ipynb#W4sZmlsZQ%3D%3D?line=0'>1</a>\u001b[0m loader \u001b[39m=\u001b[39m CSVLoader(file_path\u001b[39m=\u001b[39m\u001b[39mr\u001b[39m\u001b[39m'\u001b[39m\u001b[39mDB/data.csv\u001b[39m\u001b[39m'\u001b[39m)\n\u001b[1;32m----> <a href='vscode-notebook-cell:/d%3A/vscode_machineLearning/BEST_PROJECTS/LLM-GooglePalm/experiments/exp.ipynb#W4sZmlsZQ%3D%3D?line=1'>2</a>\u001b[0m data \u001b[39m=\u001b[39m loader\u001b[39m.\u001b[39;49mload()\n",
      "File \u001b[1;32md:\\vscode_machineLearning\\BEST_PROJECTS\\LLM-GooglePalm\\llm\\Lib\\site-packages\\langchain\\document_loaders\\csv_loader.py:59\u001b[0m, in \u001b[0;36mCSVLoader.load\u001b[1;34m(self)\u001b[0m\n\u001b[0;32m     56\u001b[0m \u001b[39m\u001b[39m\u001b[39m\"\"\"Load data into document objects.\"\"\"\u001b[39;00m\n\u001b[0;32m     58\u001b[0m docs \u001b[39m=\u001b[39m []\n\u001b[1;32m---> 59\u001b[0m \u001b[39mwith\u001b[39;00m \u001b[39mopen\u001b[39;49m(\u001b[39mself\u001b[39;49m\u001b[39m.\u001b[39;49mfile_path, newline\u001b[39m=\u001b[39;49m\u001b[39m\"\u001b[39;49m\u001b[39m\"\u001b[39;49m, encoding\u001b[39m=\u001b[39;49m\u001b[39mself\u001b[39;49m\u001b[39m.\u001b[39;49mencoding) \u001b[39mas\u001b[39;00m csvfile:\n\u001b[0;32m     60\u001b[0m     csv_reader \u001b[39m=\u001b[39m csv\u001b[39m.\u001b[39mDictReader(csvfile, \u001b[39m*\u001b[39m\u001b[39m*\u001b[39m\u001b[39mself\u001b[39m\u001b[39m.\u001b[39mcsv_args)  \u001b[39m# type: ignore\u001b[39;00m\n\u001b[0;32m     61\u001b[0m     \u001b[39mfor\u001b[39;00m i, row \u001b[39min\u001b[39;00m \u001b[39menumerate\u001b[39m(csv_reader):\n",
      "\u001b[1;31mFileNotFoundError\u001b[0m: [Errno 2] No such file or directory: 'DB/data.csv'"
     ]
    }
   ],
   "source": [
    "loader = CSVLoader(file_path=r'DB/data.csv')\n",
    "data = loader.load()"
   ]
  },
  {
   "cell_type": "code",
   "execution_count": 4,
   "metadata": {},
   "outputs": [
    {
     "data": {
      "text/plain": [
       "<langchain.document_loaders.csv_loader.CSVLoader at 0x2d9d2d1b6d0>"
      ]
     },
     "execution_count": 4,
     "metadata": {},
     "output_type": "execute_result"
    }
   ],
   "source": [
    "loader"
   ]
  },
  {
   "cell_type": "code",
   "execution_count": null,
   "metadata": {},
   "outputs": [],
   "source": []
  },
  {
   "cell_type": "code",
   "execution_count": null,
   "metadata": {},
   "outputs": [],
   "source": []
  }
 ],
 "metadata": {
  "kernelspec": {
   "display_name": "llm",
   "language": "python",
   "name": "python3"
  },
  "language_info": {
   "codemirror_mode": {
    "name": "ipython",
    "version": 3
   },
   "file_extension": ".py",
   "mimetype": "text/x-python",
   "name": "python",
   "nbconvert_exporter": "python",
   "pygments_lexer": "ipython3",
   "version": "3.11.3"
  }
 },
 "nbformat": 4,
 "nbformat_minor": 2
}
